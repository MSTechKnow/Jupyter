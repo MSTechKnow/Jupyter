{
 "cells": [
  {
   "cell_type": "markdown",
   "metadata": {},
   "source": [
    "# Support Vector Machines in R"
   ]
  },
  {
   "cell_type": "markdown",
   "metadata": {},
   "source": [
    "The R interface to libsvm in package e1071, svm(), was designed to be as intuitive as possible. Models are fitted and new data are predicted as usual, and both the vector/matrix and the formula interface are implemented. "
   ]
  },
  {
   "cell_type": "markdown",
   "metadata": {},
   "source": [
    "## Classification\n",
    "In this example, we use the glass data from the UCI Repository of Machine Learning Databases for classification. The task is to predict the type of a glass on basis of its chemical analysis. We start by splitting the data into a train and\n",
    "test set:"
   ]
  },
  {
   "cell_type": "code",
   "execution_count": null,
   "metadata": {
    "collapsed": true
   },
   "outputs": [],
   "source": [
    "install.packages(\"e1071\")"
   ]
  },
  {
   "cell_type": "code",
   "execution_count": 4,
   "metadata": {
    "collapsed": true
   },
   "outputs": [],
   "source": [
    "library(e1071)"
   ]
  },
  {
   "cell_type": "code",
   "execution_count": null,
   "metadata": {
    "collapsed": true
   },
   "outputs": [],
   "source": [
    "install.packages(\"rpart\")\n",
    "library(rpart)"
   ]
  },
  {
   "cell_type": "code",
   "execution_count": null,
   "metadata": {
    "collapsed": true
   },
   "outputs": [],
   "source": [
    "install.packages(\"mlbench\")\n",
    "library(mlbench)\n",
    "data(Glass, package=\"mlbench\")\n",
    "index     <- 1:nrow(Glass)\n",
    "testindex <- sample(index, trunc(length(index)/3))\n",
    "testset   <- Glass[testindex,]\n",
    "trainset  <- Glass[-testindex,]"
   ]
  },
  {
   "cell_type": "markdown",
   "metadata": {},
   "source": [
    "Both for the SVM and the partitioning tree (via rpart()), we fit the model and try to predict the test set values:"
   ]
  },
  {
   "cell_type": "code",
   "execution_count": 8,
   "metadata": {
    "collapsed": true
   },
   "outputs": [],
   "source": [
    "#svm\n",
    "svm.model <- svm(Type ~ ., data = trainset, cost = 100, gamma = 1)\n",
    "svm.pred  <- predict(svm.model, testset[,-10])"
   ]
  },
  {
   "cell_type": "code",
   "execution_count": 9,
   "metadata": {
    "collapsed": true
   },
   "outputs": [],
   "source": [
    "#rpart to show the regression results\n",
    "rpart.model <- rpart(Type ~ ., data = trainset)\n",
    "rpart.pred  <- predict(rpart.model, testset[,-10], type = \"class\")"
   ]
  },
  {
   "cell_type": "code",
   "execution_count": 10,
   "metadata": {
    "collapsed": false
   },
   "outputs": [
    {
     "data": {
      "text/plain": [
       "    true\n",
       "pred  1  2  3  5  6  7\n",
       "   1 16  4  2  0  0  0\n",
       "   2  6 18  2  4  1  4\n",
       "   3  1  2  2  0  0  0\n",
       "   5  0  0  0  0  0  0\n",
       "   6  0  0  0  0  1  0\n",
       "   7  0  0  0  0  0  8"
      ]
     },
     "metadata": {},
     "output_type": "display_data"
    }
   ],
   "source": [
    "## compute svm confusion matrix\n",
    "table(pred = svm.pred, true = testset[,10])"
   ]
  },
  {
   "cell_type": "code",
   "execution_count": 11,
   "metadata": {
    "collapsed": false
   },
   "outputs": [
    {
     "data": {
      "text/plain": [
       "    true\n",
       "pred  1  2  3  5  6  7\n",
       "   1 16  2  3  0  0  0\n",
       "   2  6 17  1  0  2  1\n",
       "   3  1  2  2  0  0  1\n",
       "   5  0  2  0  3  0  0\n",
       "   6  0  0  0  0  0  0\n",
       "   7  0  1  0  1  0 10"
      ]
     },
     "metadata": {},
     "output_type": "display_data"
    }
   ],
   "source": [
    "## compute rpart confusion matrix\n",
    "table(pred = rpart.pred, true = testset[,10])"
   ]
  },
  {
   "cell_type": "markdown",
   "metadata": {},
   "source": [
    "Comparison between rart and svm\n",
    "<img src=\"Selection_004.png\">"
   ]
  },
  {
   "cell_type": "markdown",
   "metadata": {},
   "source": [
    "## Regression\n",
    "The regression capabilities of SVMs are demonstrated on the ozone data. Again, we split the data into a train and test set."
   ]
  },
  {
   "cell_type": "code",
   "execution_count": 12,
   "metadata": {
    "collapsed": true
   },
   "outputs": [],
   "source": [
    "data(Ozone, package=\"mlbench\")\n",
    "index     <- 1:nrow(Ozone)\n",
    "testindex <- sample(index, trunc(length(index)/3))\n",
    "testset   <- na.omit(Ozone[testindex,-3])\n",
    "trainset  <- na.omit(Ozone[-testindex,-3])"
   ]
  },
  {
   "cell_type": "code",
   "execution_count": 13,
   "metadata": {
    "collapsed": false
   },
   "outputs": [
    {
     "data": {
      "text/html": [
       "<table>\n",
       "<tbody>\n",
       "\t<tr><td>11.1117</td></tr>\n",
       "</tbody>\n",
       "</table>\n"
      ],
      "text/latex": [
       "\\begin{tabular}{l}\n",
       "\t 11.1117\\\\\n",
       "\\end{tabular}\n"
      ],
      "text/markdown": [
       "11.1117037747493"
      ],
      "text/plain": [
       "     [,1]   \n",
       "[1,] 11.1117"
      ]
     },
     "metadata": {},
     "output_type": "display_data"
    }
   ],
   "source": [
    " ## svm\n",
    "svm.model <- svm(V4 ~ ., data = trainset, cost = 1000, gamma = 0.0001)\n",
    "svm.pred  <- predict(svm.model, testset[,-3])\n",
    "crossprod(svm.pred - testset[,3]) / length(testindex)"
   ]
  },
  {
   "cell_type": "code",
   "execution_count": 14,
   "metadata": {
    "collapsed": false
   },
   "outputs": [
    {
     "data": {
      "text/html": [
       "<table>\n",
       "<tbody>\n",
       "\t<tr><td>22.85684</td></tr>\n",
       "</tbody>\n",
       "</table>\n"
      ],
      "text/latex": [
       "\\begin{tabular}{l}\n",
       "\t 22.85684\\\\\n",
       "\\end{tabular}\n"
      ],
      "text/markdown": [
       "22.8568354674622"
      ],
      "text/plain": [
       "     [,1]    \n",
       "[1,] 22.85684"
      ]
     },
     "metadata": {},
     "output_type": "display_data"
    }
   ],
   "source": [
    "## rpart\n",
    "rpart.model <- rpart(V4 ~ ., data = trainset)\n",
    "rpart.pred  <- predict(rpart.model, testset[,-3])\n",
    "crossprod(rpart.pred - testset[,3]) / length(testindex)"
   ]
  },
  {
   "cell_type": "markdown",
   "metadata": {},
   "source": [
    "Comparison between rpart and svm\n",
    "<img src=\"Selection_003.png\">"
   ]
  },
  {
   "cell_type": "markdown",
   "metadata": {},
   "source": [
    "Drawbacks of using SVM:\n",
    "1) SVMs scale rather badly with the data size due to the quadratic optimization algorithm and the kernel transformation. \n",
    "2) The correct choice of kernel parameters is crucial for obtaining good results, which practically means that an extensive search must be conducted on the parameter space before results can be trusted, and this often complicates the task (the authors of libsvm currently conduct some work on methods of efficient automatic parameter selection).  \n",
    "3) The current implementation is optimized for the radial basis function kernel only, which clearly might be suboptimal for your data."
   ]
  },
  {
   "cell_type": "raw",
   "metadata": {},
   "source": []
  }
 ],
 "metadata": {
  "kernelspec": {
   "display_name": "R",
   "language": "R",
   "name": "ir"
  },
  "language_info": {
   "codemirror_mode": "r",
   "file_extension": ".r",
   "mimetype": "text/x-r-source",
   "name": "R",
   "pygments_lexer": "r",
   "version": "3.3.1"
  }
 },
 "nbformat": 4,
 "nbformat_minor": 1
}
